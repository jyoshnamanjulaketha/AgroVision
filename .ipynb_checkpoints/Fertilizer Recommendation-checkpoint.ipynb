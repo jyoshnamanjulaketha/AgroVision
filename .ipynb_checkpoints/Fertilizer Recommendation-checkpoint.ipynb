{
 "cells": [
  {
   "cell_type": "code",
   "execution_count": 1,
   "id": "2bca883a",
   "metadata": {},
   "outputs": [],
   "source": [
    "import numpy as np\n",
    "import pandas as pd\n",
    "from matplotlib import pyplot as plt\n",
    "import seaborn as sns"
   ]
  },
  {
   "cell_type": "markdown",
   "id": "a5dbdaf0",
   "metadata": {},
   "source": [
    "## Commodity dataset"
   ]
  },
  {
   "cell_type": "code",
   "execution_count": 2,
   "id": "60b6a75a",
   "metadata": {},
   "outputs": [
    {
     "data": {
      "text/html": [
       "<div>\n",
       "<style scoped>\n",
       "    .dataframe tbody tr th:only-of-type {\n",
       "        vertical-align: middle;\n",
       "    }\n",
       "\n",
       "    .dataframe tbody tr th {\n",
       "        vertical-align: top;\n",
       "    }\n",
       "\n",
       "    .dataframe thead th {\n",
       "        text-align: right;\n",
       "    }\n",
       "</style>\n",
       "<table border=\"1\" class=\"dataframe\">\n",
       "  <thead>\n",
       "    <tr style=\"text-align: right;\">\n",
       "      <th></th>\n",
       "      <th>state</th>\n",
       "      <th>district</th>\n",
       "      <th>market</th>\n",
       "      <th>commodity</th>\n",
       "      <th>variety</th>\n",
       "      <th>arrival_date</th>\n",
       "      <th>min_price</th>\n",
       "      <th>max_price</th>\n",
       "      <th>modal_price</th>\n",
       "    </tr>\n",
       "  </thead>\n",
       "  <tbody>\n",
       "    <tr>\n",
       "      <th>0</th>\n",
       "      <td>Andaman and Nicobar</td>\n",
       "      <td>South Andaman</td>\n",
       "      <td>Port Blair</td>\n",
       "      <td>Amaranthus</td>\n",
       "      <td>Amaranthus</td>\n",
       "      <td>04/03/2019</td>\n",
       "      <td>6000</td>\n",
       "      <td>8000</td>\n",
       "      <td>7000</td>\n",
       "    </tr>\n",
       "    <tr>\n",
       "      <th>1</th>\n",
       "      <td>Andaman and Nicobar</td>\n",
       "      <td>South Andaman</td>\n",
       "      <td>Port Blair</td>\n",
       "      <td>Banana - Green</td>\n",
       "      <td>Banana - Green</td>\n",
       "      <td>04/03/2019</td>\n",
       "      <td>4500</td>\n",
       "      <td>5500</td>\n",
       "      <td>5000</td>\n",
       "    </tr>\n",
       "    <tr>\n",
       "      <th>2</th>\n",
       "      <td>Andaman and Nicobar</td>\n",
       "      <td>South Andaman</td>\n",
       "      <td>Port Blair</td>\n",
       "      <td>Bhindi(Ladies Finger)</td>\n",
       "      <td>Bhindi</td>\n",
       "      <td>04/03/2019</td>\n",
       "      <td>6000</td>\n",
       "      <td>8000</td>\n",
       "      <td>7000</td>\n",
       "    </tr>\n",
       "    <tr>\n",
       "      <th>3</th>\n",
       "      <td>Andaman and Nicobar</td>\n",
       "      <td>South Andaman</td>\n",
       "      <td>Port Blair</td>\n",
       "      <td>Bitter gourd</td>\n",
       "      <td>Other</td>\n",
       "      <td>04/03/2019</td>\n",
       "      <td>6000</td>\n",
       "      <td>8000</td>\n",
       "      <td>7000</td>\n",
       "    </tr>\n",
       "    <tr>\n",
       "      <th>4</th>\n",
       "      <td>Andaman and Nicobar</td>\n",
       "      <td>South Andaman</td>\n",
       "      <td>Port Blair</td>\n",
       "      <td>Black pepper</td>\n",
       "      <td>Other</td>\n",
       "      <td>04/03/2019</td>\n",
       "      <td>110000</td>\n",
       "      <td>130000</td>\n",
       "      <td>120000</td>\n",
       "    </tr>\n",
       "  </tbody>\n",
       "</table>\n",
       "</div>"
      ],
      "text/plain": [
       "                 state       district      market              commodity  \\\n",
       "0  Andaman and Nicobar  South Andaman  Port Blair             Amaranthus   \n",
       "1  Andaman and Nicobar  South Andaman  Port Blair         Banana - Green   \n",
       "2  Andaman and Nicobar  South Andaman  Port Blair  Bhindi(Ladies Finger)   \n",
       "3  Andaman and Nicobar  South Andaman  Port Blair           Bitter gourd   \n",
       "4  Andaman and Nicobar  South Andaman  Port Blair           Black pepper   \n",
       "\n",
       "          variety arrival_date  min_price  max_price  modal_price  \n",
       "0      Amaranthus   04/03/2019       6000       8000         7000  \n",
       "1  Banana - Green   04/03/2019       4500       5500         5000  \n",
       "2          Bhindi   04/03/2019       6000       8000         7000  \n",
       "3           Other   04/03/2019       6000       8000         7000  \n",
       "4           Other   04/03/2019     110000     130000       120000  "
      ]
     },
     "execution_count": 2,
     "metadata": {},
     "output_type": "execute_result"
    }
   ],
   "source": [
    "df_commodity = pd.read_csv(filepath_or_buffer=\"D:\\TRI-NIT\\Dataset\\Commodity_prices\")\n",
    "df_commodity.head()"
   ]
  },
  {
   "cell_type": "code",
   "execution_count": 3,
   "id": "ebb359b4",
   "metadata": {},
   "outputs": [
    {
     "data": {
      "text/html": [
       "<div>\n",
       "<style scoped>\n",
       "    .dataframe tbody tr th:only-of-type {\n",
       "        vertical-align: middle;\n",
       "    }\n",
       "\n",
       "    .dataframe tbody tr th {\n",
       "        vertical-align: top;\n",
       "    }\n",
       "\n",
       "    .dataframe thead th {\n",
       "        text-align: right;\n",
       "    }\n",
       "</style>\n",
       "<table border=\"1\" class=\"dataframe\">\n",
       "  <thead>\n",
       "    <tr style=\"text-align: right;\">\n",
       "      <th></th>\n",
       "      <th>min_price</th>\n",
       "      <th>max_price</th>\n",
       "      <th>modal_price</th>\n",
       "    </tr>\n",
       "  </thead>\n",
       "  <tbody>\n",
       "    <tr>\n",
       "      <th>count</th>\n",
       "      <td>2238.000000</td>\n",
       "      <td>2238.000000</td>\n",
       "      <td>2238.000000</td>\n",
       "    </tr>\n",
       "    <tr>\n",
       "      <th>mean</th>\n",
       "      <td>2456.230563</td>\n",
       "      <td>2855.890527</td>\n",
       "      <td>2698.865952</td>\n",
       "    </tr>\n",
       "    <tr>\n",
       "      <th>std</th>\n",
       "      <td>3452.497680</td>\n",
       "      <td>3917.251520</td>\n",
       "      <td>3694.830905</td>\n",
       "    </tr>\n",
       "    <tr>\n",
       "      <th>min</th>\n",
       "      <td>0.000000</td>\n",
       "      <td>0.000000</td>\n",
       "      <td>2.000000</td>\n",
       "    </tr>\n",
       "    <tr>\n",
       "      <th>25%</th>\n",
       "      <td>800.000000</td>\n",
       "      <td>1000.000000</td>\n",
       "      <td>950.000000</td>\n",
       "    </tr>\n",
       "    <tr>\n",
       "      <th>50%</th>\n",
       "      <td>1700.000000</td>\n",
       "      <td>1960.000000</td>\n",
       "      <td>1831.500000</td>\n",
       "    </tr>\n",
       "    <tr>\n",
       "      <th>75%</th>\n",
       "      <td>3200.000000</td>\n",
       "      <td>3700.000000</td>\n",
       "      <td>3500.000000</td>\n",
       "    </tr>\n",
       "    <tr>\n",
       "      <th>max</th>\n",
       "      <td>110000.000000</td>\n",
       "      <td>130000.000000</td>\n",
       "      <td>120000.000000</td>\n",
       "    </tr>\n",
       "  </tbody>\n",
       "</table>\n",
       "</div>"
      ],
      "text/plain": [
       "           min_price      max_price    modal_price\n",
       "count    2238.000000    2238.000000    2238.000000\n",
       "mean     2456.230563    2855.890527    2698.865952\n",
       "std      3452.497680    3917.251520    3694.830905\n",
       "min         0.000000       0.000000       2.000000\n",
       "25%       800.000000    1000.000000     950.000000\n",
       "50%      1700.000000    1960.000000    1831.500000\n",
       "75%      3200.000000    3700.000000    3500.000000\n",
       "max    110000.000000  130000.000000  120000.000000"
      ]
     },
     "execution_count": 3,
     "metadata": {},
     "output_type": "execute_result"
    }
   ],
   "source": [
    "df_commodity.describe()"
   ]
  },
  {
   "cell_type": "code",
   "execution_count": 4,
   "id": "e089e4d4",
   "metadata": {},
   "outputs": [
    {
     "data": {
      "text/plain": [
       "state           0\n",
       "district        0\n",
       "market          0\n",
       "commodity       0\n",
       "variety         0\n",
       "arrival_date    0\n",
       "min_price       0\n",
       "max_price       0\n",
       "modal_price     0\n",
       "dtype: int64"
      ]
     },
     "execution_count": 4,
     "metadata": {},
     "output_type": "execute_result"
    }
   ],
   "source": [
    "# missing data\n",
    "df_commodity.isna().sum()"
   ]
  },
  {
   "cell_type": "markdown",
   "id": "909da5af",
   "metadata": {},
   "source": [
    "## Exploratory Data Analysis"
   ]
  },
  {
   "cell_type": "code",
   "execution_count": 5,
   "id": "957e7cf6",
   "metadata": {},
   "outputs": [
    {
     "data": {
      "image/png": "[encoded data removed]",
      "text/plain": [
       "<Figure size 1440x1080 with 4 Axes>"
      ]
     },
     "metadata": {
      "needs_background": "light"
     },
     "output_type": "display_data"
    }
   ],
   "source": [
    "# Plot histograms to visualize the distribution of the numerical columns\n",
    "df_commodity.hist(bins=30, figsize=(20,15))\n",
    "plt.show()"
   ]
  },
  {
   "cell_type": "code",
   "execution_count": 6,
   "id": "6517c131",
   "metadata": {},
   "outputs": [
    {
     "data": {
      "image/png": "[encoded data removed]",
      "text/plain": [
       "<Figure size 540x540 with 12 Axes>"
      ]
     },
     "metadata": {
      "needs_background": "light"
     },
     "output_type": "display_data"
    }
   ],
   "source": [
    "# Plot a pairplot to visualize the relationship between all numerical columns\n",
    "sns.pairplot(df_commodity)\n",
    "plt.show()"
   ]
  },
  {
   "cell_type": "code",
   "execution_count": 7,
   "id": "46aa5d3f",
   "metadata": {},
   "outputs": [
    {
     "data": {
      "image/png": "[encoded data removed]",
      "text/plain": [
       "<Figure size 432x288 with 1 Axes>"
      ]
     },
     "metadata": {
      "needs_background": "light"
     },
     "output_type": "display_data"
    }
   ],
   "source": [
    "# Plot a bar plot to visualize the distribution of the categorical column \"state\"\n",
    "sns.countplot(x=\"state\", data=df_commodity)\n",
    "plt.show()"
   ]
  },
  {
   "cell_type": "code",
   "execution_count": 8,
   "id": "e58422e2",
   "metadata": {},
   "outputs": [
    {
     "data": {
      "image/png": "[encoded data removed]",
      "text/plain": [
       "<Figure size 432x288 with 1 Axes>"
      ]
     },
     "metadata": {
      "needs_background": "light"
     },
     "output_type": "display_data"
    },
    {
     "data": {
      "image/png": "[encoded data removed]",
      "text/plain": [
       "<Figure size 432x288 with 1 Axes>"
      ]
     },
     "metadata": {
      "needs_background": "light"
     },
     "output_type": "display_data"
    },
    {
     "data": {
      "image/png": "[encoded data removed]",
      "text/plain": [
       "<Figure size 432x288 with 1 Axes>"
      ]
     },
     "metadata": {
      "needs_background": "light"
     },
     "output_type": "display_data"
    }
   ],
   "source": [
    "# Plot a box plot to visualize the distribution of the numerical columns \"min_price\", \"max_price\", \"modal_price\" by the categorical column \"state\"\n",
    "sns.boxplot(x=\"state\", y=\"min_price\", data=df_commodity)\n",
    "plt.show()\n",
    "sns.boxplot(x=\"state\", y=\"max_price\", data=df_commodity)\n",
    "plt.show()\n",
    "sns.boxplot(x=\"state\", y=\"modal_price\", data=df_commodity)\n",
    "plt.show()"
   ]
  },
  {
   "cell_type": "markdown",
   "id": "1edd9af2",
   "metadata": {},
   "source": [
    "## Crops dataset"
   ]
  },
  {
   "cell_type": "code",
   "execution_count": 9,
   "id": "d16c43f2",
   "metadata": {},
   "outputs": [
    {
     "data": {
      "text/html": [
       "<div>\n",
       "<style scoped>\n",
       "    .dataframe tbody tr th:only-of-type {\n",
       "        vertical-align: middle;\n",
       "    }\n",
       "\n",
       "    .dataframe tbody tr th {\n",
       "        vertical-align: top;\n",
       "    }\n",
       "\n",
       "    .dataframe thead th {\n",
       "        text-align: right;\n",
       "    }\n",
       "</style>\n",
       "<table border=\"1\" class=\"dataframe\">\n",
       "  <thead>\n",
       "    <tr style=\"text-align: right;\">\n",
       "      <th></th>\n",
       "      <th>N</th>\n",
       "      <th>P</th>\n",
       "      <th>K</th>\n",
       "      <th>temperature</th>\n",
       "      <th>humidity</th>\n",
       "      <th>ph</th>\n",
       "      <th>rainfall</th>\n",
       "      <th>label</th>\n",
       "    </tr>\n",
       "  </thead>\n",
       "  <tbody>\n",
       "    <tr>\n",
       "      <th>0</th>\n",
       "      <td>90</td>\n",
       "      <td>42</td>\n",
       "      <td>43</td>\n",
       "      <td>20.879744</td>\n",
       "      <td>82.002744</td>\n",
       "      <td>6.502985</td>\n",
       "      <td>202.935536</td>\n",
       "      <td>rice</td>\n",
       "    </tr>\n",
       "    <tr>\n",
       "      <th>1</th>\n",
       "      <td>85</td>\n",
       "      <td>58</td>\n",
       "      <td>41</td>\n",
       "      <td>21.770462</td>\n",
       "      <td>80.319644</td>\n",
       "      <td>7.038096</td>\n",
       "      <td>226.655537</td>\n",
       "      <td>rice</td>\n",
       "    </tr>\n",
       "    <tr>\n",
       "      <th>2</th>\n",
       "      <td>60</td>\n",
       "      <td>55</td>\n",
       "      <td>44</td>\n",
       "      <td>23.004459</td>\n",
       "      <td>82.320763</td>\n",
       "      <td>7.840207</td>\n",
       "      <td>263.964248</td>\n",
       "      <td>rice</td>\n",
       "    </tr>\n",
       "    <tr>\n",
       "      <th>3</th>\n",
       "      <td>74</td>\n",
       "      <td>35</td>\n",
       "      <td>40</td>\n",
       "      <td>26.491096</td>\n",
       "      <td>80.158363</td>\n",
       "      <td>6.980401</td>\n",
       "      <td>242.864034</td>\n",
       "      <td>rice</td>\n",
       "    </tr>\n",
       "    <tr>\n",
       "      <th>4</th>\n",
       "      <td>78</td>\n",
       "      <td>42</td>\n",
       "      <td>42</td>\n",
       "      <td>20.130175</td>\n",
       "      <td>81.604873</td>\n",
       "      <td>7.628473</td>\n",
       "      <td>262.717340</td>\n",
       "      <td>rice</td>\n",
       "    </tr>\n",
       "  </tbody>\n",
       "</table>\n",
       "</div>"
      ],
      "text/plain": [
       "    N   P   K  temperature   humidity        ph    rainfall label\n",
       "0  90  42  43    20.879744  82.002744  6.502985  202.935536  rice\n",
       "1  85  58  41    21.770462  80.319644  7.038096  226.655537  rice\n",
       "2  60  55  44    23.004459  82.320763  7.840207  263.964248  rice\n",
       "3  74  35  40    26.491096  80.158363  6.980401  242.864034  rice\n",
       "4  78  42  42    20.130175  81.604873  7.628473  262.717340  rice"
      ]
     },
     "execution_count": 9,
     "metadata": {},
     "output_type": "execute_result"
    }
   ],
   "source": [
    "df_crop = pd.read_csv(\"D:\\TRI-NIT\\Dataset\\Crop_recommendation.csv\")\n",
    "df_crop.head()"
   ]
  },
  {
   "cell_type": "markdown",
   "id": "6077138d",
   "metadata": {},
   "source": [
    "## District vs Rainfall dataset"
   ]
  },
  {
   "cell_type": "code",
   "execution_count": 10,
   "id": "8e0a4da7",
   "metadata": {},
   "outputs": [
    {
     "data": {
      "text/plain": [
       "array(['ANDAMAN And NICOBAR ISLANDS', 'ANDHRA PRADESH',\n",
       "       'ARUNACHAL PRADESH', 'ASSAM', 'BIHAR', 'CHANDIGARH', 'CHATISGARH',\n",
       "       'DADAR NAGAR HAVELI', 'DAMAN AND DUI', 'DELHI', 'GOA', 'GUJARAT',\n",
       "       'HARYANA', 'HIMACHAL', 'JAMMU AND KASHMIR', 'JHARKHAND',\n",
       "       'KARNATAKA', 'KERALA', 'LAKSHADWEEP', 'MADHYA PRADESH',\n",
       "       'MAHARASHTRA', 'MANIPUR', 'MEGHALAYA', 'MIZORAM', 'NAGALAND',\n",
       "       'ORISSA', 'PONDICHERRY', 'PUNJAB', 'RAJASTHAN', 'SIKKIM',\n",
       "       'TAMIL NADU', 'TRIPURA', 'UTTAR PRADESH', 'UTTARANCHAL',\n",
       "       'WEST BENGAL'], dtype=object)"
      ]
     },
     "execution_count": 10,
     "metadata": {},
     "output_type": "execute_result"
    }
   ],
   "source": [
    "df_rainfall = pd.read_csv(\"D:\\TRI-NIT\\Dataset\\district wise rainfall normal.csv\")\n",
    "k = df_rainfall[\"STATE_UT_NAME\"].unique()\n",
    "k.sort()\n",
    "k"
   ]
  },
  {
   "cell_type": "code",
   "execution_count": 11,
   "id": "6a059670",
   "metadata": {},
   "outputs": [],
   "source": [
    "state_district = {}\n",
    "for i in k:\n",
    "    district = df_rainfall[df_rainfall[\"STATE_UT_NAME\"]==i][\"DISTRICT\"].unique()\n",
    "    district.sort()\n",
    "    state_district[i] = district.tolist()\n",
    "    \n",
    "\n"
   ]
  },
  {
   "cell_type": "code",
   "execution_count": 12,
   "id": "54e78a72",
   "metadata": {},
   "outputs": [
    {
     "data": {
      "text/html": [
       "<div>\n",
       "<style scoped>\n",
       "    .dataframe tbody tr th:only-of-type {\n",
       "        vertical-align: middle;\n",
       "    }\n",
       "\n",
       "    .dataframe tbody tr th {\n",
       "        vertical-align: top;\n",
       "    }\n",
       "\n",
       "    .dataframe thead th {\n",
       "        text-align: right;\n",
       "    }\n",
       "</style>\n",
       "<table border=\"1\" class=\"dataframe\">\n",
       "  <thead>\n",
       "    <tr style=\"text-align: right;\">\n",
       "      <th></th>\n",
       "      <th>STATE_UT_NAME</th>\n",
       "      <th>DISTRICT</th>\n",
       "      <th>JAN</th>\n",
       "      <th>FEB</th>\n",
       "      <th>MAR</th>\n",
       "      <th>APR</th>\n",
       "      <th>MAY</th>\n",
       "      <th>JUN</th>\n",
       "      <th>JUL</th>\n",
       "      <th>AUG</th>\n",
       "      <th>SEP</th>\n",
       "      <th>OCT</th>\n",
       "      <th>NOV</th>\n",
       "      <th>DEC</th>\n",
       "      <th>ANNUAL</th>\n",
       "      <th>Jan-Feb</th>\n",
       "      <th>Mar-May</th>\n",
       "      <th>Jun-Sep</th>\n",
       "      <th>Oct-Dec</th>\n",
       "    </tr>\n",
       "  </thead>\n",
       "  <tbody>\n",
       "    <tr>\n",
       "      <th>0</th>\n",
       "      <td>ANDAMAN And NICOBAR ISLANDS</td>\n",
       "      <td>NICOBAR</td>\n",
       "      <td>107.3</td>\n",
       "      <td>57.9</td>\n",
       "      <td>65.2</td>\n",
       "      <td>117.0</td>\n",
       "      <td>358.5</td>\n",
       "      <td>295.5</td>\n",
       "      <td>285.0</td>\n",
       "      <td>271.9</td>\n",
       "      <td>354.8</td>\n",
       "      <td>326.0</td>\n",
       "      <td>315.2</td>\n",
       "      <td>250.9</td>\n",
       "      <td>2805.2</td>\n",
       "      <td>165.2</td>\n",
       "      <td>540.7</td>\n",
       "      <td>1207.2</td>\n",
       "      <td>892.1</td>\n",
       "    </tr>\n",
       "    <tr>\n",
       "      <th>1</th>\n",
       "      <td>ANDAMAN And NICOBAR ISLANDS</td>\n",
       "      <td>SOUTH ANDAMAN</td>\n",
       "      <td>43.7</td>\n",
       "      <td>26.0</td>\n",
       "      <td>18.6</td>\n",
       "      <td>90.5</td>\n",
       "      <td>374.4</td>\n",
       "      <td>457.2</td>\n",
       "      <td>421.3</td>\n",
       "      <td>423.1</td>\n",
       "      <td>455.6</td>\n",
       "      <td>301.2</td>\n",
       "      <td>275.8</td>\n",
       "      <td>128.3</td>\n",
       "      <td>3015.7</td>\n",
       "      <td>69.7</td>\n",
       "      <td>483.5</td>\n",
       "      <td>1757.2</td>\n",
       "      <td>705.3</td>\n",
       "    </tr>\n",
       "    <tr>\n",
       "      <th>2</th>\n",
       "      <td>ANDAMAN And NICOBAR ISLANDS</td>\n",
       "      <td>N &amp; M ANDAMAN</td>\n",
       "      <td>32.7</td>\n",
       "      <td>15.9</td>\n",
       "      <td>8.6</td>\n",
       "      <td>53.4</td>\n",
       "      <td>343.6</td>\n",
       "      <td>503.3</td>\n",
       "      <td>465.4</td>\n",
       "      <td>460.9</td>\n",
       "      <td>454.8</td>\n",
       "      <td>276.1</td>\n",
       "      <td>198.6</td>\n",
       "      <td>100.0</td>\n",
       "      <td>2913.3</td>\n",
       "      <td>48.6</td>\n",
       "      <td>405.6</td>\n",
       "      <td>1884.4</td>\n",
       "      <td>574.7</td>\n",
       "    </tr>\n",
       "    <tr>\n",
       "      <th>3</th>\n",
       "      <td>ARUNACHAL PRADESH</td>\n",
       "      <td>LOHIT</td>\n",
       "      <td>42.2</td>\n",
       "      <td>80.8</td>\n",
       "      <td>176.4</td>\n",
       "      <td>358.5</td>\n",
       "      <td>306.4</td>\n",
       "      <td>447.0</td>\n",
       "      <td>660.1</td>\n",
       "      <td>427.8</td>\n",
       "      <td>313.6</td>\n",
       "      <td>167.1</td>\n",
       "      <td>34.1</td>\n",
       "      <td>29.8</td>\n",
       "      <td>3043.8</td>\n",
       "      <td>123.0</td>\n",
       "      <td>841.3</td>\n",
       "      <td>1848.5</td>\n",
       "      <td>231.0</td>\n",
       "    </tr>\n",
       "    <tr>\n",
       "      <th>4</th>\n",
       "      <td>ARUNACHAL PRADESH</td>\n",
       "      <td>EAST SIANG</td>\n",
       "      <td>33.3</td>\n",
       "      <td>79.5</td>\n",
       "      <td>105.9</td>\n",
       "      <td>216.5</td>\n",
       "      <td>323.0</td>\n",
       "      <td>738.3</td>\n",
       "      <td>990.9</td>\n",
       "      <td>711.2</td>\n",
       "      <td>568.0</td>\n",
       "      <td>206.9</td>\n",
       "      <td>29.5</td>\n",
       "      <td>31.7</td>\n",
       "      <td>4034.7</td>\n",
       "      <td>112.8</td>\n",
       "      <td>645.4</td>\n",
       "      <td>3008.4</td>\n",
       "      <td>268.1</td>\n",
       "    </tr>\n",
       "  </tbody>\n",
       "</table>\n",
       "</div>"
      ],
      "text/plain": [
       "                 STATE_UT_NAME       DISTRICT    JAN   FEB    MAR    APR  \\\n",
       "0  ANDAMAN And NICOBAR ISLANDS        NICOBAR  107.3  57.9   65.2  117.0   \n",
       "1  ANDAMAN And NICOBAR ISLANDS  SOUTH ANDAMAN   43.7  26.0   18.6   90.5   \n",
       "2  ANDAMAN And NICOBAR ISLANDS  N & M ANDAMAN   32.7  15.9    8.6   53.4   \n",
       "3            ARUNACHAL PRADESH          LOHIT   42.2  80.8  176.4  358.5   \n",
       "4            ARUNACHAL PRADESH     EAST SIANG   33.3  79.5  105.9  216.5   \n",
       "\n",
       "     MAY    JUN    JUL    AUG    SEP    OCT    NOV    DEC  ANNUAL  Jan-Feb  \\\n",
       "0  358.5  295.5  285.0  271.9  354.8  326.0  315.2  250.9  2805.2    165.2   \n",
       "1  374.4  457.2  421.3  423.1  455.6  301.2  275.8  128.3  3015.7     69.7   \n",
       "2  343.6  503.3  465.4  460.9  454.8  276.1  198.6  100.0  2913.3     48.6   \n",
       "3  306.4  447.0  660.1  427.8  313.6  167.1   34.1   29.8  3043.8    123.0   \n",
       "4  323.0  738.3  990.9  711.2  568.0  206.9   29.5   31.7  4034.7    112.8   \n",
       "\n",
       "   Mar-May  Jun-Sep  Oct-Dec  \n",
       "0    540.7   1207.2    892.1  \n",
       "1    483.5   1757.2    705.3  \n",
       "2    405.6   1884.4    574.7  \n",
       "3    841.3   1848.5    231.0  \n",
       "4    645.4   3008.4    268.1  "
      ]
     },
     "execution_count": 12,
     "metadata": {},
     "output_type": "execute_result"
    }
   ],
   "source": [
    "df_rainfall.head()"
   ]
  },
  {
   "cell_type": "markdown",
   "id": "1f7cf364",
   "metadata": {},
   "source": [
    "## Data Preprocessing enuring the commodity and crops dataset having same label so that it can be mapped"
   ]
  },
  {
   "cell_type": "code",
   "execution_count": 13,
   "id": "82d6c301",
   "metadata": {},
   "outputs": [],
   "source": [
    "df_crop[\"label\"] = df_crop[\"label\"].replace( [\"rice\",\"papaya\",\"watermelon\",\"muskmelon\",\"apple\",\"orange\",\"coconut\",\"jute\",\"grapes\",\"mango\",\"banana\",\"pomegranate\",\"lentil\",\"blackgram\",\"maize\",\"mungbean\",\"mothbeans\",\"coffee\",\"cotton\",\"pigeonpeas\",\"kidneybeans\",\"chickpea\"],[\"Rice\",\"Papaya\",\"Water Melon\",\"Karbuja(Musk Melon)\",\"Apple\",\"Orange\",\"Coconut\",\"Jute\",\"Grapes\",\"Mango\",\"Banana\",\"Pomegranate\",\"Lentil (Masur)(Whole)\",\"Black Gram (Urd Beans)(Whole)\",\"Maize\",\"Green Gram (Moong)(Whole)\",\"Moath Dal\",\"Tomato\",\"Cotton\",\"Pegeon Pea (Arhar Fali)\",\"Niger Seed (Ramtil)\",\"Bengal Gram Dal (Chana Dal)\"])"
   ]
  },
  {
   "cell_type": "code",
   "execution_count": 14,
   "id": "98f8b5b9",
   "metadata": {},
   "outputs": [
    {
     "data": {
      "text/plain": [
       "array(['Rice', 'Maize', 'Bengal Gram Dal (Chana Dal)',\n",
       "       'Niger Seed (Ramtil)', 'Pegeon Pea (Arhar Fali)', 'Moath Dal',\n",
       "       'Green Gram (Moong)(Whole)', 'Black Gram (Urd Beans)(Whole)',\n",
       "       'Lentil (Masur)(Whole)', 'Pomegranate', 'Banana', 'Mango',\n",
       "       'Grapes', 'Water Melon', 'Karbuja(Musk Melon)', 'Apple', 'Orange',\n",
       "       'Papaya', 'Coconut', 'Cotton', 'Jute', 'Tomato'], dtype=object)"
      ]
     },
     "execution_count": 14,
     "metadata": {},
     "output_type": "execute_result"
    }
   ],
   "source": [
    "Crops = df_crop[\"label\"].unique()\n",
    "Crops"
   ]
  },
  {
   "cell_type": "markdown",
   "id": "f6940bc9",
   "metadata": {},
   "source": [
    "## Data Pruning"
   ]
  },
  {
   "cell_type": "code",
   "execution_count": 15,
   "id": "6d210241",
   "metadata": {},
   "outputs": [],
   "source": [
    "df_commodity = df_commodity[df_commodity[\"commodity\"].isin(Crops)]"
   ]
  },
  {
   "cell_type": "code",
   "execution_count": 16,
   "id": "c530cfd2",
   "metadata": {},
   "outputs": [
    {
     "data": {
      "text/html": [
       "<div>\n",
       "<style scoped>\n",
       "    .dataframe tbody tr th:only-of-type {\n",
       "        vertical-align: middle;\n",
       "    }\n",
       "\n",
       "    .dataframe tbody tr th {\n",
       "        vertical-align: top;\n",
       "    }\n",
       "\n",
       "    .dataframe thead th {\n",
       "        text-align: right;\n",
       "    }\n",
       "</style>\n",
       "<table border=\"1\" class=\"dataframe\">\n",
       "  <thead>\n",
       "    <tr style=\"text-align: right;\">\n",
       "      <th></th>\n",
       "      <th>state</th>\n",
       "      <th>district</th>\n",
       "      <th>market</th>\n",
       "      <th>commodity</th>\n",
       "      <th>variety</th>\n",
       "      <th>arrival_date</th>\n",
       "      <th>min_price</th>\n",
       "      <th>max_price</th>\n",
       "      <th>modal_price</th>\n",
       "    </tr>\n",
       "  </thead>\n",
       "  <tbody>\n",
       "    <tr>\n",
       "      <th>125</th>\n",
       "      <td>Gujarat</td>\n",
       "      <td>Panchmahals</td>\n",
       "      <td>Gogamba</td>\n",
       "      <td>Cotton</td>\n",
       "      <td>Other</td>\n",
       "      <td>04/03/2019</td>\n",
       "      <td>4500</td>\n",
       "      <td>4600</td>\n",
       "      <td>4550</td>\n",
       "    </tr>\n",
       "    <tr>\n",
       "      <th>163</th>\n",
       "      <td>Gujarat</td>\n",
       "      <td>Vadodara(Baroda)</td>\n",
       "      <td>Bodeli</td>\n",
       "      <td>Cotton</td>\n",
       "      <td>Shanker 6 (B) 30mm FIne</td>\n",
       "      <td>04/03/2019</td>\n",
       "      <td>5301</td>\n",
       "      <td>5520</td>\n",
       "      <td>5400</td>\n",
       "    </tr>\n",
       "    <tr>\n",
       "      <th>164</th>\n",
       "      <td>Gujarat</td>\n",
       "      <td>Vadodara(Baroda)</td>\n",
       "      <td>Bodeli(Hadod)</td>\n",
       "      <td>Cotton</td>\n",
       "      <td>Shanker 6 (B) 30mm FIne</td>\n",
       "      <td>04/03/2019</td>\n",
       "      <td>5301</td>\n",
       "      <td>5514</td>\n",
       "      <td>5400</td>\n",
       "    </tr>\n",
       "    <tr>\n",
       "      <th>165</th>\n",
       "      <td>Gujarat</td>\n",
       "      <td>Vadodara(Baroda)</td>\n",
       "      <td>Bodeli(Kalediya)</td>\n",
       "      <td>Cotton</td>\n",
       "      <td>Shanker 6 (B) 30mm FIne</td>\n",
       "      <td>04/03/2019</td>\n",
       "      <td>5301</td>\n",
       "      <td>5517</td>\n",
       "      <td>5400</td>\n",
       "    </tr>\n",
       "    <tr>\n",
       "      <th>166</th>\n",
       "      <td>Gujarat</td>\n",
       "      <td>Vadodara(Baroda)</td>\n",
       "      <td>Bodeli(Modasar)</td>\n",
       "      <td>Cotton</td>\n",
       "      <td>Shanker 6 (B) 30mm FIne</td>\n",
       "      <td>04/03/2019</td>\n",
       "      <td>5301</td>\n",
       "      <td>5519</td>\n",
       "      <td>5400</td>\n",
       "    </tr>\n",
       "  </tbody>\n",
       "</table>\n",
       "</div>"
      ],
      "text/plain": [
       "       state          district            market commodity  \\\n",
       "125  Gujarat       Panchmahals           Gogamba    Cotton   \n",
       "163  Gujarat  Vadodara(Baroda)            Bodeli    Cotton   \n",
       "164  Gujarat  Vadodara(Baroda)     Bodeli(Hadod)    Cotton   \n",
       "165  Gujarat  Vadodara(Baroda)  Bodeli(Kalediya)    Cotton   \n",
       "166  Gujarat  Vadodara(Baroda)   Bodeli(Modasar)    Cotton   \n",
       "\n",
       "                     variety arrival_date  min_price  max_price  modal_price  \n",
       "125                    Other   04/03/2019       4500       4600         4550  \n",
       "163  Shanker 6 (B) 30mm FIne   04/03/2019       5301       5520         5400  \n",
       "164  Shanker 6 (B) 30mm FIne   04/03/2019       5301       5514         5400  \n",
       "165  Shanker 6 (B) 30mm FIne   04/03/2019       5301       5517         5400  \n",
       "166  Shanker 6 (B) 30mm FIne   04/03/2019       5301       5519         5400  "
      ]
     },
     "execution_count": 16,
     "metadata": {},
     "output_type": "execute_result"
    }
   ],
   "source": [
    "df_commodity[df_commodity[\"commodity\"]==\"Cotton\"].head()"
   ]
  },
  {
   "cell_type": "markdown",
   "id": "98f39faf",
   "metadata": {},
   "source": [
    "### No of districts"
   ]
  },
  {
   "cell_type": "code",
   "execution_count": 17,
   "id": "10256b1c",
   "metadata": {},
   "outputs": [
    {
     "data": {
      "text/plain": [
       "637"
      ]
     },
     "execution_count": 17,
     "metadata": {},
     "output_type": "execute_result"
    }
   ],
   "source": [
    "len(df_rainfall[\"DISTRICT\"].unique())"
   ]
  },
  {
   "cell_type": "markdown",
   "id": "35dc2fb2",
   "metadata": {},
   "source": [
    "### Test data of Nicobar in season January - Febraury"
   ]
  },
  {
   "cell_type": "code",
   "execution_count": 18,
   "id": "1f00fc47",
   "metadata": {},
   "outputs": [
    {
     "data": {
      "text/plain": [
       "0    82.6\n",
       "Name: Jan-Feb, dtype: float64"
      ]
     },
     "execution_count": 18,
     "metadata": {},
     "output_type": "execute_result"
    }
   ],
   "source": [
    "df_rainfall[df_rainfall[\"DISTRICT\"]==\"NICOBAR\"][\"Jan-Feb\"]/2\n",
    "## Divided by number of months."
   ]
  },
  {
   "cell_type": "code",
   "execution_count": 19,
   "id": "c354e74f",
   "metadata": {},
   "outputs": [],
   "source": [
    "val = \"NICOBAR\"\n",
    "option = \"Jan-Feb\""
   ]
  },
  {
   "cell_type": "code",
   "execution_count": 20,
   "id": "6ae60975",
   "metadata": {},
   "outputs": [
    {
     "data": {
      "text/plain": [
       "array([82.6])"
      ]
     },
     "execution_count": 20,
     "metadata": {},
     "output_type": "execute_result"
    }
   ],
   "source": [
    "dataset = df_crop.to_numpy()\n",
    "dataset\n",
    "test_jan_feb = df_rainfall[df_rainfall[\"DISTRICT\"]==val][option].to_numpy()\n",
    "test = test_jan_feb/2\n",
    "test"
   ]
  },
  {
   "cell_type": "markdown",
   "id": "d27c8cdb",
   "metadata": {},
   "source": [
    "## KNN algorithm for crop prediction based on rainfall in a location"
   ]
  },
  {
   "cell_type": "code",
   "execution_count": 21,
   "id": "19e645b4",
   "metadata": {},
   "outputs": [
    {
     "name": "stdout",
     "output_type": "stream",
     "text": [
      "[82.6]\n"
     ]
    }
   ],
   "source": [
    "from math import sqrt\n",
    " \n",
    "# calculate the Euclidean distance between two vectors\n",
    "def euclidean_distance(row1, row2):\n",
    "    distance = (row1[0]-row2[6])**2\n",
    "    return sqrt(distance)\n",
    " \n",
    "# Locate the most similar neighbors\n",
    "def get_neighbors(train, test_row, num_neighbors):\n",
    "    distances = list()\n",
    "    for train_row in train:\n",
    "        #print(train_row)\n",
    "        dist = euclidean_distance(test_row, train_row)\n",
    "        distances.append((train_row, dist))\n",
    "    distances.sort(key=lambda tup: tup[1])\n",
    "    #print(distances)\n",
    "    neighbors = list()\n",
    "    for i in range(num_neighbors):\n",
    "        neighbors.append(distances[i][0])\n",
    "    return neighbors\n",
    " \n",
    "neighbors = get_neighbors(dataset, test, 100)\n",
    "pred=[]\n",
    "print(test)\n",
    "for neighbor in neighbors:\n",
    "    pred.append(neighbor[-1])\n",
    "\n",
    "#print(pred)\n",
    "val = np.unique(pred)"
   ]
  },
  {
   "cell_type": "markdown",
   "id": "f56a10a9",
   "metadata": {},
   "source": [
    "## List of Crops"
   ]
  },
  {
   "cell_type": "code",
   "execution_count": 22,
   "id": "85fa8364",
   "metadata": {},
   "outputs": [
    {
     "data": {
      "text/plain": [
       "array(['Bengal Gram Dal (Chana Dal)', 'Cotton', 'Maize',\n",
       "       'Niger Seed (Ramtil)', 'Papaya'], dtype='<U27')"
      ]
     },
     "execution_count": 22,
     "metadata": {},
     "output_type": "execute_result"
    }
   ],
   "source": [
    "val"
   ]
  },
  {
   "cell_type": "markdown",
   "id": "1522c5bf",
   "metadata": {},
   "source": [
    "## Crops vs previous price data"
   ]
  },
  {
   "cell_type": "code",
   "execution_count": 23,
   "id": "caf1d4f9",
   "metadata": {},
   "outputs": [],
   "source": [
    "data = df_commodity[df_commodity[\"commodity\"].isin(val)]"
   ]
  },
  {
   "cell_type": "code",
   "execution_count": 24,
   "id": "1000f54a",
   "metadata": {},
   "outputs": [],
   "source": [
    "dict = {}\n",
    "for i in val:\n",
    "    max_val = max(data[data[\"commodity\"]==i][\"max_price\"])\n",
    "    min_val = max(data[data[\"commodity\"]==i][\"min_price\"])\n",
    "    min_modal_price = min(data[data[\"commodity\"]==i][\"modal_price\"])\n",
    "    max_modal_price = max(data[data[\"commodity\"]==i][\"modal_price\"])\n",
    "    avg_modal_price = data[data[\"commodity\"]==i][\"modal_price\"].mean()\n",
    "    dict[i] = {\"Max Val\":max_val,\"Min Val\":min_val,\"Min Modal Price\":min_modal_price,\"Max Modal Price\":max_modal_price,\"Avg modal price\":avg_modal_price}\n",
    "                            \n",
    "    "
   ]
  },
  {
   "cell_type": "markdown",
   "id": "f9e73515",
   "metadata": {},
   "source": [
    "## Crop prediction based on Geo location and ranked based on Avg Modal Price"
   ]
  },
  {
   "cell_type": "code",
   "execution_count": 25,
   "id": "a592f986",
   "metadata": {},
   "outputs": [
    {
     "data": {
      "text/html": [
       "<div>\n",
       "<style scoped>\n",
       "    .dataframe tbody tr th:only-of-type {\n",
       "        vertical-align: middle;\n",
       "    }\n",
       "\n",
       "    .dataframe tbody tr th {\n",
       "        vertical-align: top;\n",
       "    }\n",
       "\n",
       "    .dataframe thead th {\n",
       "        text-align: right;\n",
       "    }\n",
       "</style>\n",
       "<table border=\"1\" class=\"dataframe\">\n",
       "  <thead>\n",
       "    <tr style=\"text-align: right;\">\n",
       "      <th></th>\n",
       "      <th>Max Val</th>\n",
       "      <th>Min Val</th>\n",
       "      <th>Min Modal Price</th>\n",
       "      <th>Max Modal Price</th>\n",
       "      <th>Avg modal price</th>\n",
       "    </tr>\n",
       "  </thead>\n",
       "  <tbody>\n",
       "    <tr>\n",
       "      <th>Bengal Gram Dal (Chana Dal)</th>\n",
       "      <td>11000.0</td>\n",
       "      <td>5400.0</td>\n",
       "      <td>5430.0</td>\n",
       "      <td>11000.0</td>\n",
       "      <td>8507.500000</td>\n",
       "    </tr>\n",
       "    <tr>\n",
       "      <th>Cotton</th>\n",
       "      <td>6200.0</td>\n",
       "      <td>5600.0</td>\n",
       "      <td>4000.0</td>\n",
       "      <td>6000.0</td>\n",
       "      <td>5207.869565</td>\n",
       "    </tr>\n",
       "    <tr>\n",
       "      <th>Niger Seed (Ramtil)</th>\n",
       "      <td>4200.0</td>\n",
       "      <td>4100.0</td>\n",
       "      <td>4150.0</td>\n",
       "      <td>4150.0</td>\n",
       "      <td>4150.000000</td>\n",
       "    </tr>\n",
       "    <tr>\n",
       "      <th>Maize</th>\n",
       "      <td>2210.0</td>\n",
       "      <td>1953.0</td>\n",
       "      <td>1350.0</td>\n",
       "      <td>2210.0</td>\n",
       "      <td>1767.636364</td>\n",
       "    </tr>\n",
       "    <tr>\n",
       "      <th>Papaya</th>\n",
       "      <td>3000.0</td>\n",
       "      <td>2800.0</td>\n",
       "      <td>700.0</td>\n",
       "      <td>2900.0</td>\n",
       "      <td>1471.315789</td>\n",
       "    </tr>\n",
       "  </tbody>\n",
       "</table>\n",
       "</div>"
      ],
      "text/plain": [
       "                             Max Val  Min Val  Min Modal Price  \\\n",
       "Bengal Gram Dal (Chana Dal)  11000.0   5400.0           5430.0   \n",
       "Cotton                        6200.0   5600.0           4000.0   \n",
       "Niger Seed (Ramtil)           4200.0   4100.0           4150.0   \n",
       "Maize                         2210.0   1953.0           1350.0   \n",
       "Papaya                        3000.0   2800.0            700.0   \n",
       "\n",
       "                             Max Modal Price  Avg modal price  \n",
       "Bengal Gram Dal (Chana Dal)          11000.0      8507.500000  \n",
       "Cotton                                6000.0      5207.869565  \n",
       "Niger Seed (Ramtil)                   4150.0      4150.000000  \n",
       "Maize                                 2210.0      1767.636364  \n",
       "Papaya                                2900.0      1471.315789  "
      ]
     },
     "execution_count": 25,
     "metadata": {},
     "output_type": "execute_result"
    }
   ],
   "source": [
    "# Test data \n",
    "# District = NICOBAR, season = Jan - Feb\n",
    "df = pd.DataFrame.from_dict(dict).transpose()  \n",
    "df.sort_values(\"Avg modal price\", ascending=False)"
   ]
  },
  {
   "cell_type": "code",
   "execution_count": null,
   "id": "23052102",
   "metadata": {},
   "outputs": [],
   "source": []
  }
 ],
 "metadata": {
  "kernelspec": {
   "display_name": "Python 3 (ipykernel)",
   "language": "python",
   "name": "python3"
  },
  "language_info": {
   "codemirror_mode": {
    "name": "ipython",
    "version": 3
   },
   "file_extension": ".py",
   "mimetype": "text/x-python",
   "name": "python",
   "nbconvert_exporter": "python",
   "pygments_lexer": "ipython3",
   "version": "3.9.7"
  }
 },
 "nbformat": 4,
 "nbformat_minor": 5
}
